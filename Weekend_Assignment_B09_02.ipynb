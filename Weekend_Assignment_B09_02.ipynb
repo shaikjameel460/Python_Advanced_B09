{
 "cells": [
  {
   "cell_type": "code",
   "execution_count": 18,
   "metadata": {},
   "outputs": [],
   "source": [
    "#Problem Statement 1:"
   ]
  },
  {
   "cell_type": "code",
   "execution_count": null,
   "metadata": {},
   "outputs": [],
   "source": [
    "river={'nile':'egypt','amazon':'brazil','narmada':'india'}"
   ]
  },
  {
   "cell_type": "code",
   "execution_count": 3,
   "metadata": {},
   "outputs": [],
   "source": [
    "x=river.items()"
   ]
  },
  {
   "cell_type": "code",
   "execution_count": null,
   "metadata": {},
   "outputs": [],
   "source": [
    "#option 1:"
   ]
  },
  {
   "cell_type": "code",
   "execution_count": 4,
   "metadata": {},
   "outputs": [
    {
     "name": "stdout",
     "output_type": "stream",
     "text": [
      "The nile runs through egypt\n",
      "The amazon runs through brazil\n",
      "The narmada runs through india\n"
     ]
    }
   ],
   "source": [
    "for key,value in x:\n",
    "    print(f\"The {key} runs through {value}\")"
   ]
  },
  {
   "cell_type": "code",
   "execution_count": 5,
   "metadata": {},
   "outputs": [],
   "source": [
    "# option 2:"
   ]
  },
  {
   "cell_type": "code",
   "execution_count": 17,
   "metadata": {},
   "outputs": [
    {
     "name": "stdout",
     "output_type": "stream",
     "text": [
      "nile\n",
      "amazon\n",
      "narmada\n"
     ]
    }
   ],
   "source": [
    "for keys in river.keys():\n",
    "    print(f\"{keys}\")"
   ]
  },
  {
   "cell_type": "code",
   "execution_count": null,
   "metadata": {},
   "outputs": [],
   "source": [
    "#option 3:"
   ]
  },
  {
   "cell_type": "code",
   "execution_count": 15,
   "metadata": {},
   "outputs": [
    {
     "name": "stdout",
     "output_type": "stream",
     "text": [
      "egypt\n",
      "brazil\n",
      "india\n"
     ]
    }
   ],
   "source": [
    "for values in river.values():\n",
    "    print(f\"{values}\")"
   ]
  },
  {
   "cell_type": "code",
   "execution_count": 19,
   "metadata": {},
   "outputs": [],
   "source": [
    "#Problem Statemen 2:"
   ]
  },
  {
   "cell_type": "code",
   "execution_count": 20,
   "metadata": {},
   "outputs": [],
   "source": [
    "fav_places={'jameel':'paris','farhan':'delhi','sujan':'goa'}"
   ]
  },
  {
   "cell_type": "code",
   "execution_count": 36,
   "metadata": {},
   "outputs": [
    {
     "name": "stdout",
     "output_type": "stream",
     "text": [
      "name: jameel\n",
      "fav_place: paris\n",
      "\n",
      "name: farhan\n",
      "fav_place: delhi\n",
      "\n",
      "name: sujan\n",
      "fav_place: goa\n",
      "\n"
     ]
    }
   ],
   "source": [
    "for x,y in fav_places.items():\n",
    "    print(f\"name: {x}\")\n",
    "    print(f\"fav_place: {y}\\n\")"
   ]
  },
  {
   "cell_type": "code",
   "execution_count": 37,
   "metadata": {},
   "outputs": [
    {
     "name": "stdout",
     "output_type": "stream",
     "text": [
      "Name: jameel\n",
      "\n",
      "Name: farhan\n",
      "\n",
      "Name: sujan\n",
      "\n"
     ]
    }
   ],
   "source": [
    "for x in fav_places.keys():\n",
    "    print(f\"Name: {x}\\n\")"
   ]
  },
  {
   "cell_type": "code",
   "execution_count": 40,
   "metadata": {},
   "outputs": [
    {
     "name": "stdout",
     "output_type": "stream",
     "text": [
      "fav_places:paris\n",
      "\n",
      "fav_places:delhi\n",
      "\n",
      "fav_places:goa\n",
      "\n"
     ]
    }
   ],
   "source": [
    "for y in fav_places.values():\n",
    "    print(f\"fav_places:{y}\\n\")"
   ]
  },
  {
   "cell_type": "code",
   "execution_count": null,
   "metadata": {},
   "outputs": [],
   "source": []
  }
 ],
 "metadata": {
  "kernelspec": {
   "display_name": "Python 3",
   "language": "python",
   "name": "python3"
  },
  "language_info": {
   "codemirror_mode": {
    "name": "ipython",
    "version": 3
   },
   "file_extension": ".py",
   "mimetype": "text/x-python",
   "name": "python",
   "nbconvert_exporter": "python",
   "pygments_lexer": "ipython3",
   "version": "3.7.6"
  }
 },
 "nbformat": 4,
 "nbformat_minor": 4
}
