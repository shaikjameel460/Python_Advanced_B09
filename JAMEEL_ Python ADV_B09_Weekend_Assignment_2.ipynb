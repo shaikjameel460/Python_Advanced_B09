{
 "cells": [
  {
   "cell_type": "code",
   "execution_count": 1,
   "metadata": {},
   "outputs": [],
   "source": [
    "def make_Tshirt(Tshirt_size,text_message):\n",
    "    \"\"\"\"Describing the details of T-shirt\"\"\"\n",
    "    print(f\"size of Tshirt is {Tshirt_size}\")\n",
    "    print(f\"message printed on Tshirt is {text_message}\")"
   ]
  },
  {
   "cell_type": "code",
   "execution_count": 2,
   "metadata": {},
   "outputs": [
    {
     "name": "stdout",
     "output_type": "stream",
     "text": [
      "size of Tshirt is 36\n",
      "message printed on Tshirt is python\n"
     ]
    }
   ],
   "source": [
    "make_Tshirt(36,'python')#positional arguments"
   ]
  },
  {
   "cell_type": "code",
   "execution_count": 3,
   "metadata": {},
   "outputs": [
    {
     "name": "stdout",
     "output_type": "stream",
     "text": [
      "size of Tshirt is 36\n",
      "message printed on Tshirt is coding is everything\n"
     ]
    }
   ],
   "source": [
    "make_Tshirt(Tshirt_size=36,text_message='coding is everything')#keyword arguments"
   ]
  },
  {
   "cell_type": "code",
   "execution_count": 4,
   "metadata": {},
   "outputs": [],
   "source": [
    "#Desc_Shirt"
   ]
  },
  {
   "cell_type": "code",
   "execution_count": 5,
   "metadata": {},
   "outputs": [],
   "source": [
    "def make_shirt(different_message,large_size= 'i love python'):\n",
    "    \"\"\"\"Describing the details of T-shirt\"\"\"\n",
    "    print(f\"large shirt and message printed on it is {large_size}\")\n",
    "    print(f\"Medium shirt and message printed on it is  {large_size}\")\n",
    "    print(f\"Shirt of any size and message printed on it is  {different_message}\")"
   ]
  },
  {
   "cell_type": "code",
   "execution_count": 6,
   "metadata": {},
   "outputs": [
    {
     "name": "stdout",
     "output_type": "stream",
     "text": [
      "large shirt and message printed on it is i love python\n",
      "Medium shirt and message printed on it is  i love python\n",
      "Shirt of any size and message printed on it is  Code reusability\n"
     ]
    }
   ],
   "source": [
    "make_shirt('Code reusability')"
   ]
  },
  {
   "cell_type": "code",
   "execution_count": 7,
   "metadata": {},
   "outputs": [],
   "source": [
    "#3rd Requirement"
   ]
  },
  {
   "cell_type": "code",
   "execution_count": 8,
   "metadata": {},
   "outputs": [],
   "source": [
    "def describe_city(name_city,country='Europe'):\n",
    "    \"\"\"Describing the city details\"\"\"\n",
    "    print(f\"{name_city} is in {country}\")"
   ]
  },
  {
   "cell_type": "code",
   "execution_count": 9,
   "metadata": {},
   "outputs": [
    {
     "name": "stdout",
     "output_type": "stream",
     "text": [
      "reykjavik is in Europe\n"
     ]
    }
   ],
   "source": [
    "describe_city('reykjavik')"
   ]
  },
  {
   "cell_type": "code",
   "execution_count": 10,
   "metadata": {},
   "outputs": [
    {
     "name": "stdout",
     "output_type": "stream",
     "text": [
      "selfoss is in Europe\n"
     ]
    }
   ],
   "source": [
    "describe_city('selfoss')"
   ]
  },
  {
   "cell_type": "code",
   "execution_count": null,
   "metadata": {},
   "outputs": [],
   "source": []
  }
 ],
 "metadata": {
  "kernelspec": {
   "display_name": "Python 3",
   "language": "python",
   "name": "python3"
  },
  "language_info": {
   "codemirror_mode": {
    "name": "ipython",
    "version": 3
   },
   "file_extension": ".py",
   "mimetype": "text/x-python",
   "name": "python",
   "nbconvert_exporter": "python",
   "pygments_lexer": "ipython3",
   "version": "3.7.6"
  }
 },
 "nbformat": 4,
 "nbformat_minor": 4
}
